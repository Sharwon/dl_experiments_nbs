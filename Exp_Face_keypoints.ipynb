{
 "cells": [
  {
   "cell_type": "markdown",
   "metadata": {},
   "source": [
    "## Regression CNN - Facial Keypoints"
   ]
  },
  {
   "cell_type": "markdown",
   "metadata": {},
   "source": [
    "This is an example to show how to create custom datasets and do regression with images. Our task is to find the facial keypoints in a face. The data comes from the [Facial Keypoint Dataset - Kaggle](https://www.kaggle.com/c/facial-keypoints-detection), thanks to Yoshsio Bengio."
   ]
  },
  {
   "cell_type": "code",
   "execution_count": 1,
   "metadata": {},
   "outputs": [],
   "source": [
    "%reload_ext autoreload\n",
    "%autoreload 2\n",
    "%matplotlib inline"
   ]
  },
  {
   "cell_type": "code",
   "execution_count": 2,
   "metadata": {},
   "outputs": [],
   "source": [
    "from fastai import *\n",
    "from fastai.vision import *"
   ]
  },
  {
   "cell_type": "markdown",
   "metadata": {},
   "source": [
    "## Getting and converting the data"
   ]
  },
  {
   "cell_type": "code",
   "execution_count": 3,
   "metadata": {},
   "outputs": [],
   "source": [
    "path1 =Path('../data/facial_keypoints')"
   ]
  },
  {
   "cell_type": "code",
   "execution_count": 4,
   "metadata": {},
   "outputs": [],
   "source": [
    "raw_data = pd.read_csv(path1/'training.csv')"
   ]
  },
  {
   "cell_type": "code",
   "execution_count": 8,
   "metadata": {},
   "outputs": [
    {
     "data": {
      "text/plain": [
       "(7049, 31)"
      ]
     },
     "execution_count": 8,
     "metadata": {},
     "output_type": "execute_result"
    }
   ],
   "source": [
    "raw_data.shape"
   ]
  },
  {
   "cell_type": "code",
   "execution_count": 9,
   "metadata": {},
   "outputs": [
    {
     "data": {
      "text/html": [
       "<div>\n",
       "<style scoped>\n",
       "    .dataframe tbody tr th:only-of-type {\n",
       "        vertical-align: middle;\n",
       "    }\n",
       "\n",
       "    .dataframe tbody tr th {\n",
       "        vertical-align: top;\n",
       "    }\n",
       "\n",
       "    .dataframe thead th {\n",
       "        text-align: right;\n",
       "    }\n",
       "</style>\n",
       "<table border=\"1\" class=\"dataframe\">\n",
       "  <thead>\n",
       "    <tr style=\"text-align: right;\">\n",
       "      <th></th>\n",
       "      <th>left_eye_center_x</th>\n",
       "      <th>left_eye_center_y</th>\n",
       "      <th>right_eye_center_x</th>\n",
       "      <th>right_eye_center_y</th>\n",
       "      <th>left_eye_inner_corner_x</th>\n",
       "      <th>left_eye_inner_corner_y</th>\n",
       "      <th>left_eye_outer_corner_x</th>\n",
       "      <th>left_eye_outer_corner_y</th>\n",
       "      <th>right_eye_inner_corner_x</th>\n",
       "      <th>right_eye_inner_corner_y</th>\n",
       "      <th>...</th>\n",
       "      <th>nose_tip_y</th>\n",
       "      <th>mouth_left_corner_x</th>\n",
       "      <th>mouth_left_corner_y</th>\n",
       "      <th>mouth_right_corner_x</th>\n",
       "      <th>mouth_right_corner_y</th>\n",
       "      <th>mouth_center_top_lip_x</th>\n",
       "      <th>mouth_center_top_lip_y</th>\n",
       "      <th>mouth_center_bottom_lip_x</th>\n",
       "      <th>mouth_center_bottom_lip_y</th>\n",
       "      <th>Image</th>\n",
       "    </tr>\n",
       "  </thead>\n",
       "  <tbody>\n",
       "    <tr>\n",
       "      <th>0</th>\n",
       "      <td>66.033564</td>\n",
       "      <td>39.002274</td>\n",
       "      <td>30.227008</td>\n",
       "      <td>36.421678</td>\n",
       "      <td>59.582075</td>\n",
       "      <td>39.647423</td>\n",
       "      <td>73.130346</td>\n",
       "      <td>39.969997</td>\n",
       "      <td>36.356571</td>\n",
       "      <td>37.389402</td>\n",
       "      <td>...</td>\n",
       "      <td>57.066803</td>\n",
       "      <td>61.195308</td>\n",
       "      <td>79.970165</td>\n",
       "      <td>28.614496</td>\n",
       "      <td>77.388992</td>\n",
       "      <td>43.312602</td>\n",
       "      <td>72.935459</td>\n",
       "      <td>43.130707</td>\n",
       "      <td>84.485774</td>\n",
       "      <td>238 236 237 238 240 240 239 241 241 243 240 23...</td>\n",
       "    </tr>\n",
       "    <tr>\n",
       "      <th>1</th>\n",
       "      <td>64.332936</td>\n",
       "      <td>34.970077</td>\n",
       "      <td>29.949277</td>\n",
       "      <td>33.448715</td>\n",
       "      <td>58.856170</td>\n",
       "      <td>35.274349</td>\n",
       "      <td>70.722723</td>\n",
       "      <td>36.187166</td>\n",
       "      <td>36.034723</td>\n",
       "      <td>34.361532</td>\n",
       "      <td>...</td>\n",
       "      <td>55.660936</td>\n",
       "      <td>56.421447</td>\n",
       "      <td>76.352000</td>\n",
       "      <td>35.122383</td>\n",
       "      <td>76.047660</td>\n",
       "      <td>46.684596</td>\n",
       "      <td>70.266553</td>\n",
       "      <td>45.467915</td>\n",
       "      <td>85.480170</td>\n",
       "      <td>219 215 204 196 204 211 212 200 180 168 178 19...</td>\n",
       "    </tr>\n",
       "    <tr>\n",
       "      <th>2</th>\n",
       "      <td>65.057053</td>\n",
       "      <td>34.909642</td>\n",
       "      <td>30.903789</td>\n",
       "      <td>34.909642</td>\n",
       "      <td>59.412000</td>\n",
       "      <td>36.320968</td>\n",
       "      <td>70.984421</td>\n",
       "      <td>36.320968</td>\n",
       "      <td>37.678105</td>\n",
       "      <td>36.320968</td>\n",
       "      <td>...</td>\n",
       "      <td>53.538947</td>\n",
       "      <td>60.822947</td>\n",
       "      <td>73.014316</td>\n",
       "      <td>33.726316</td>\n",
       "      <td>72.732000</td>\n",
       "      <td>47.274947</td>\n",
       "      <td>70.191789</td>\n",
       "      <td>47.274947</td>\n",
       "      <td>78.659368</td>\n",
       "      <td>144 142 159 180 188 188 184 180 167 132 84 59 ...</td>\n",
       "    </tr>\n",
       "    <tr>\n",
       "      <th>3</th>\n",
       "      <td>65.225739</td>\n",
       "      <td>37.261774</td>\n",
       "      <td>32.023096</td>\n",
       "      <td>37.261774</td>\n",
       "      <td>60.003339</td>\n",
       "      <td>39.127179</td>\n",
       "      <td>72.314713</td>\n",
       "      <td>38.380967</td>\n",
       "      <td>37.618643</td>\n",
       "      <td>38.754115</td>\n",
       "      <td>...</td>\n",
       "      <td>54.166539</td>\n",
       "      <td>65.598887</td>\n",
       "      <td>72.703722</td>\n",
       "      <td>37.245496</td>\n",
       "      <td>74.195478</td>\n",
       "      <td>50.303165</td>\n",
       "      <td>70.091687</td>\n",
       "      <td>51.561183</td>\n",
       "      <td>78.268383</td>\n",
       "      <td>193 192 193 194 194 194 193 192 168 111 50 12 ...</td>\n",
       "    </tr>\n",
       "  </tbody>\n",
       "</table>\n",
       "<p>4 rows × 31 columns</p>\n",
       "</div>"
      ],
      "text/plain": [
       "   left_eye_center_x  left_eye_center_y  right_eye_center_x  \\\n",
       "0          66.033564          39.002274           30.227008   \n",
       "1          64.332936          34.970077           29.949277   \n",
       "2          65.057053          34.909642           30.903789   \n",
       "3          65.225739          37.261774           32.023096   \n",
       "\n",
       "   right_eye_center_y  left_eye_inner_corner_x  left_eye_inner_corner_y  \\\n",
       "0           36.421678                59.582075                39.647423   \n",
       "1           33.448715                58.856170                35.274349   \n",
       "2           34.909642                59.412000                36.320968   \n",
       "3           37.261774                60.003339                39.127179   \n",
       "\n",
       "   left_eye_outer_corner_x  left_eye_outer_corner_y  right_eye_inner_corner_x  \\\n",
       "0                73.130346                39.969997                 36.356571   \n",
       "1                70.722723                36.187166                 36.034723   \n",
       "2                70.984421                36.320968                 37.678105   \n",
       "3                72.314713                38.380967                 37.618643   \n",
       "\n",
       "   right_eye_inner_corner_y  \\\n",
       "0                 37.389402   \n",
       "1                 34.361532   \n",
       "2                 36.320968   \n",
       "3                 38.754115   \n",
       "\n",
       "                         ...                          nose_tip_y  \\\n",
       "0                        ...                           57.066803   \n",
       "1                        ...                           55.660936   \n",
       "2                        ...                           53.538947   \n",
       "3                        ...                           54.166539   \n",
       "\n",
       "   mouth_left_corner_x  mouth_left_corner_y  mouth_right_corner_x  \\\n",
       "0            61.195308            79.970165             28.614496   \n",
       "1            56.421447            76.352000             35.122383   \n",
       "2            60.822947            73.014316             33.726316   \n",
       "3            65.598887            72.703722             37.245496   \n",
       "\n",
       "   mouth_right_corner_y  mouth_center_top_lip_x  mouth_center_top_lip_y  \\\n",
       "0             77.388992               43.312602               72.935459   \n",
       "1             76.047660               46.684596               70.266553   \n",
       "2             72.732000               47.274947               70.191789   \n",
       "3             74.195478               50.303165               70.091687   \n",
       "\n",
       "   mouth_center_bottom_lip_x  mouth_center_bottom_lip_y  \\\n",
       "0                  43.130707                  84.485774   \n",
       "1                  45.467915                  85.480170   \n",
       "2                  47.274947                  78.659368   \n",
       "3                  51.561183                  78.268383   \n",
       "\n",
       "                                               Image  \n",
       "0  238 236 237 238 240 240 239 241 241 243 240 23...  \n",
       "1  219 215 204 196 204 211 212 200 180 168 178 19...  \n",
       "2  144 142 159 180 188 188 184 180 167 132 84 59 ...  \n",
       "3  193 192 193 194 194 194 193 192 168 111 50 12 ...  \n",
       "\n",
       "[4 rows x 31 columns]"
      ]
     },
     "execution_count": 9,
     "metadata": {},
     "output_type": "execute_result"
    }
   ],
   "source": [
    "raw_data.head(4)"
   ]
  },
  {
   "cell_type": "code",
   "execution_count": 10,
   "metadata": {},
   "outputs": [
    {
     "data": {
      "text/html": [
       "<div>\n",
       "<style scoped>\n",
       "    .dataframe tbody tr th:only-of-type {\n",
       "        vertical-align: middle;\n",
       "    }\n",
       "\n",
       "    .dataframe tbody tr th {\n",
       "        vertical-align: top;\n",
       "    }\n",
       "\n",
       "    .dataframe thead th {\n",
       "        text-align: right;\n",
       "    }\n",
       "</style>\n",
       "<table border=\"1\" class=\"dataframe\">\n",
       "  <thead>\n",
       "    <tr style=\"text-align: right;\">\n",
       "      <th></th>\n",
       "      <th>left_eye_center_x</th>\n",
       "      <th>left_eye_center_y</th>\n",
       "      <th>right_eye_center_x</th>\n",
       "      <th>right_eye_center_y</th>\n",
       "      <th>left_eye_inner_corner_x</th>\n",
       "      <th>left_eye_inner_corner_y</th>\n",
       "      <th>left_eye_outer_corner_x</th>\n",
       "      <th>left_eye_outer_corner_y</th>\n",
       "      <th>right_eye_inner_corner_x</th>\n",
       "      <th>right_eye_inner_corner_y</th>\n",
       "      <th>...</th>\n",
       "      <th>nose_tip_x</th>\n",
       "      <th>nose_tip_y</th>\n",
       "      <th>mouth_left_corner_x</th>\n",
       "      <th>mouth_left_corner_y</th>\n",
       "      <th>mouth_right_corner_x</th>\n",
       "      <th>mouth_right_corner_y</th>\n",
       "      <th>mouth_center_top_lip_x</th>\n",
       "      <th>mouth_center_top_lip_y</th>\n",
       "      <th>mouth_center_bottom_lip_x</th>\n",
       "      <th>mouth_center_bottom_lip_y</th>\n",
       "    </tr>\n",
       "  </thead>\n",
       "  <tbody>\n",
       "    <tr>\n",
       "      <th>count</th>\n",
       "      <td>7039.000000</td>\n",
       "      <td>7039.000000</td>\n",
       "      <td>7036.000000</td>\n",
       "      <td>7036.000000</td>\n",
       "      <td>2271.000000</td>\n",
       "      <td>2271.000000</td>\n",
       "      <td>2267.000000</td>\n",
       "      <td>2267.000000</td>\n",
       "      <td>2268.000000</td>\n",
       "      <td>2268.000000</td>\n",
       "      <td>...</td>\n",
       "      <td>7049.000000</td>\n",
       "      <td>7049.000000</td>\n",
       "      <td>2269.000000</td>\n",
       "      <td>2269.000000</td>\n",
       "      <td>2270.000000</td>\n",
       "      <td>2270.000000</td>\n",
       "      <td>2275.000000</td>\n",
       "      <td>2275.000000</td>\n",
       "      <td>7016.000000</td>\n",
       "      <td>7016.000000</td>\n",
       "    </tr>\n",
       "    <tr>\n",
       "      <th>mean</th>\n",
       "      <td>66.359021</td>\n",
       "      <td>37.651234</td>\n",
       "      <td>30.306102</td>\n",
       "      <td>37.976943</td>\n",
       "      <td>59.159339</td>\n",
       "      <td>37.944752</td>\n",
       "      <td>73.330478</td>\n",
       "      <td>37.707008</td>\n",
       "      <td>36.652607</td>\n",
       "      <td>37.989902</td>\n",
       "      <td>...</td>\n",
       "      <td>48.374186</td>\n",
       "      <td>62.715884</td>\n",
       "      <td>63.285735</td>\n",
       "      <td>75.970714</td>\n",
       "      <td>32.900404</td>\n",
       "      <td>76.179768</td>\n",
       "      <td>47.975412</td>\n",
       "      <td>72.919443</td>\n",
       "      <td>48.569472</td>\n",
       "      <td>78.970146</td>\n",
       "    </tr>\n",
       "    <tr>\n",
       "      <th>std</th>\n",
       "      <td>3.448233</td>\n",
       "      <td>3.152926</td>\n",
       "      <td>3.083230</td>\n",
       "      <td>3.033621</td>\n",
       "      <td>2.690354</td>\n",
       "      <td>2.307332</td>\n",
       "      <td>3.405852</td>\n",
       "      <td>2.881438</td>\n",
       "      <td>2.350268</td>\n",
       "      <td>2.311907</td>\n",
       "      <td>...</td>\n",
       "      <td>4.280038</td>\n",
       "      <td>5.720567</td>\n",
       "      <td>4.079063</td>\n",
       "      <td>4.579724</td>\n",
       "      <td>3.964552</td>\n",
       "      <td>4.417814</td>\n",
       "      <td>3.323060</td>\n",
       "      <td>5.222500</td>\n",
       "      <td>4.269961</td>\n",
       "      <td>5.407844</td>\n",
       "    </tr>\n",
       "    <tr>\n",
       "      <th>min</th>\n",
       "      <td>22.763345</td>\n",
       "      <td>1.616512</td>\n",
       "      <td>0.686592</td>\n",
       "      <td>4.091264</td>\n",
       "      <td>19.064954</td>\n",
       "      <td>27.190098</td>\n",
       "      <td>27.571879</td>\n",
       "      <td>26.250023</td>\n",
       "      <td>5.751046</td>\n",
       "      <td>26.250023</td>\n",
       "      <td>...</td>\n",
       "      <td>12.944699</td>\n",
       "      <td>17.932414</td>\n",
       "      <td>22.923362</td>\n",
       "      <td>57.023258</td>\n",
       "      <td>2.245766</td>\n",
       "      <td>56.690208</td>\n",
       "      <td>12.605173</td>\n",
       "      <td>56.719043</td>\n",
       "      <td>12.536477</td>\n",
       "      <td>25.850503</td>\n",
       "    </tr>\n",
       "    <tr>\n",
       "      <th>25%</th>\n",
       "      <td>65.082895</td>\n",
       "      <td>35.900451</td>\n",
       "      <td>28.783339</td>\n",
       "      <td>36.327681</td>\n",
       "      <td>58.039339</td>\n",
       "      <td>36.626283</td>\n",
       "      <td>71.716503</td>\n",
       "      <td>36.085523</td>\n",
       "      <td>35.506126</td>\n",
       "      <td>36.766783</td>\n",
       "      <td>...</td>\n",
       "      <td>46.602370</td>\n",
       "      <td>59.292697</td>\n",
       "      <td>61.257143</td>\n",
       "      <td>72.875707</td>\n",
       "      <td>30.797646</td>\n",
       "      <td>73.256472</td>\n",
       "      <td>46.494571</td>\n",
       "      <td>69.396748</td>\n",
       "      <td>46.573703</td>\n",
       "      <td>75.549715</td>\n",
       "    </tr>\n",
       "    <tr>\n",
       "      <th>50%</th>\n",
       "      <td>66.497566</td>\n",
       "      <td>37.528055</td>\n",
       "      <td>30.251378</td>\n",
       "      <td>37.813273</td>\n",
       "      <td>59.304615</td>\n",
       "      <td>37.878040</td>\n",
       "      <td>73.247824</td>\n",
       "      <td>37.639015</td>\n",
       "      <td>36.651562</td>\n",
       "      <td>37.944075</td>\n",
       "      <td>...</td>\n",
       "      <td>48.424713</td>\n",
       "      <td>63.451421</td>\n",
       "      <td>63.178286</td>\n",
       "      <td>75.778689</td>\n",
       "      <td>32.982305</td>\n",
       "      <td>76.000592</td>\n",
       "      <td>47.905490</td>\n",
       "      <td>72.605173</td>\n",
       "      <td>48.594978</td>\n",
       "      <td>78.696326</td>\n",
       "    </tr>\n",
       "    <tr>\n",
       "      <th>75%</th>\n",
       "      <td>68.024752</td>\n",
       "      <td>39.258449</td>\n",
       "      <td>31.768334</td>\n",
       "      <td>39.566729</td>\n",
       "      <td>60.519810</td>\n",
       "      <td>39.260348</td>\n",
       "      <td>75.015645</td>\n",
       "      <td>39.373489</td>\n",
       "      <td>37.753571</td>\n",
       "      <td>39.192917</td>\n",
       "      <td>...</td>\n",
       "      <td>50.330437</td>\n",
       "      <td>66.492686</td>\n",
       "      <td>65.376243</td>\n",
       "      <td>78.879123</td>\n",
       "      <td>35.101302</td>\n",
       "      <td>78.956357</td>\n",
       "      <td>49.296488</td>\n",
       "      <td>76.221644</td>\n",
       "      <td>50.677631</td>\n",
       "      <td>82.233993</td>\n",
       "    </tr>\n",
       "    <tr>\n",
       "      <th>max</th>\n",
       "      <td>94.689280</td>\n",
       "      <td>80.502649</td>\n",
       "      <td>85.039381</td>\n",
       "      <td>81.270911</td>\n",
       "      <td>84.440991</td>\n",
       "      <td>66.562559</td>\n",
       "      <td>95.258090</td>\n",
       "      <td>64.618230</td>\n",
       "      <td>70.714966</td>\n",
       "      <td>69.808803</td>\n",
       "      <td>...</td>\n",
       "      <td>89.438592</td>\n",
       "      <td>95.935644</td>\n",
       "      <td>84.767123</td>\n",
       "      <td>94.673637</td>\n",
       "      <td>74.017993</td>\n",
       "      <td>95.510678</td>\n",
       "      <td>83.989082</td>\n",
       "      <td>94.548359</td>\n",
       "      <td>89.438592</td>\n",
       "      <td>95.808983</td>\n",
       "    </tr>\n",
       "  </tbody>\n",
       "</table>\n",
       "<p>8 rows × 30 columns</p>\n",
       "</div>"
      ],
      "text/plain": [
       "       left_eye_center_x  left_eye_center_y  right_eye_center_x  \\\n",
       "count        7039.000000        7039.000000         7036.000000   \n",
       "mean           66.359021          37.651234           30.306102   \n",
       "std             3.448233           3.152926            3.083230   \n",
       "min            22.763345           1.616512            0.686592   \n",
       "25%            65.082895          35.900451           28.783339   \n",
       "50%            66.497566          37.528055           30.251378   \n",
       "75%            68.024752          39.258449           31.768334   \n",
       "max            94.689280          80.502649           85.039381   \n",
       "\n",
       "       right_eye_center_y  left_eye_inner_corner_x  left_eye_inner_corner_y  \\\n",
       "count         7036.000000              2271.000000              2271.000000   \n",
       "mean            37.976943                59.159339                37.944752   \n",
       "std              3.033621                 2.690354                 2.307332   \n",
       "min              4.091264                19.064954                27.190098   \n",
       "25%             36.327681                58.039339                36.626283   \n",
       "50%             37.813273                59.304615                37.878040   \n",
       "75%             39.566729                60.519810                39.260348   \n",
       "max             81.270911                84.440991                66.562559   \n",
       "\n",
       "       left_eye_outer_corner_x  left_eye_outer_corner_y  \\\n",
       "count              2267.000000              2267.000000   \n",
       "mean                 73.330478                37.707008   \n",
       "std                   3.405852                 2.881438   \n",
       "min                  27.571879                26.250023   \n",
       "25%                  71.716503                36.085523   \n",
       "50%                  73.247824                37.639015   \n",
       "75%                  75.015645                39.373489   \n",
       "max                  95.258090                64.618230   \n",
       "\n",
       "       right_eye_inner_corner_x  right_eye_inner_corner_y  \\\n",
       "count               2268.000000               2268.000000   \n",
       "mean                  36.652607                 37.989902   \n",
       "std                    2.350268                  2.311907   \n",
       "min                    5.751046                 26.250023   \n",
       "25%                   35.506126                 36.766783   \n",
       "50%                   36.651562                 37.944075   \n",
       "75%                   37.753571                 39.192917   \n",
       "max                   70.714966                 69.808803   \n",
       "\n",
       "                 ...               nose_tip_x   nose_tip_y  \\\n",
       "count            ...              7049.000000  7049.000000   \n",
       "mean             ...                48.374186    62.715884   \n",
       "std              ...                 4.280038     5.720567   \n",
       "min              ...                12.944699    17.932414   \n",
       "25%              ...                46.602370    59.292697   \n",
       "50%              ...                48.424713    63.451421   \n",
       "75%              ...                50.330437    66.492686   \n",
       "max              ...                89.438592    95.935644   \n",
       "\n",
       "       mouth_left_corner_x  mouth_left_corner_y  mouth_right_corner_x  \\\n",
       "count          2269.000000          2269.000000           2270.000000   \n",
       "mean             63.285735            75.970714             32.900404   \n",
       "std               4.079063             4.579724              3.964552   \n",
       "min              22.923362            57.023258              2.245766   \n",
       "25%              61.257143            72.875707             30.797646   \n",
       "50%              63.178286            75.778689             32.982305   \n",
       "75%              65.376243            78.879123             35.101302   \n",
       "max              84.767123            94.673637             74.017993   \n",
       "\n",
       "       mouth_right_corner_y  mouth_center_top_lip_x  mouth_center_top_lip_y  \\\n",
       "count           2270.000000             2275.000000             2275.000000   \n",
       "mean              76.179768               47.975412               72.919443   \n",
       "std                4.417814                3.323060                5.222500   \n",
       "min               56.690208               12.605173               56.719043   \n",
       "25%               73.256472               46.494571               69.396748   \n",
       "50%               76.000592               47.905490               72.605173   \n",
       "75%               78.956357               49.296488               76.221644   \n",
       "max               95.510678               83.989082               94.548359   \n",
       "\n",
       "       mouth_center_bottom_lip_x  mouth_center_bottom_lip_y  \n",
       "count                7016.000000                7016.000000  \n",
       "mean                   48.569472                  78.970146  \n",
       "std                     4.269961                   5.407844  \n",
       "min                    12.536477                  25.850503  \n",
       "25%                    46.573703                  75.549715  \n",
       "50%                    48.594978                  78.696326  \n",
       "75%                    50.677631                  82.233993  \n",
       "max                    89.438592                  95.808983  \n",
       "\n",
       "[8 rows x 30 columns]"
      ]
     },
     "execution_count": 10,
     "metadata": {},
     "output_type": "execute_result"
    }
   ],
   "source": [
    "raw_data.describe()\n",
    "# shows data imbalance"
   ]
  },
  {
   "cell_type": "code",
   "execution_count": 5,
   "metadata": {},
   "outputs": [],
   "source": [
    "#cleaning the data\n",
    "df = raw_data.dropna()"
   ]
  },
  {
   "cell_type": "code",
   "execution_count": 8,
   "metadata": {},
   "outputs": [
    {
     "data": {
      "text/plain": [
       "left_eye_center_x            2140\n",
       "left_eye_center_y            2140\n",
       "right_eye_center_x           2140\n",
       "right_eye_center_y           2140\n",
       "left_eye_inner_corner_x      2140\n",
       "left_eye_inner_corner_y      2140\n",
       "left_eye_outer_corner_x      2140\n",
       "left_eye_outer_corner_y      2140\n",
       "right_eye_inner_corner_x     2140\n",
       "right_eye_inner_corner_y     2140\n",
       "right_eye_outer_corner_x     2140\n",
       "right_eye_outer_corner_y     2140\n",
       "left_eyebrow_inner_end_x     2140\n",
       "left_eyebrow_inner_end_y     2140\n",
       "left_eyebrow_outer_end_x     2140\n",
       "left_eyebrow_outer_end_y     2140\n",
       "right_eyebrow_inner_end_x    2140\n",
       "right_eyebrow_inner_end_y    2140\n",
       "right_eyebrow_outer_end_x    2140\n",
       "right_eyebrow_outer_end_y    2140\n",
       "nose_tip_x                   2140\n",
       "nose_tip_y                   2140\n",
       "mouth_left_corner_x          2140\n",
       "mouth_left_corner_y          2140\n",
       "mouth_right_corner_x         2140\n",
       "mouth_right_corner_y         2140\n",
       "mouth_center_top_lip_x       2140\n",
       "mouth_center_top_lip_y       2140\n",
       "mouth_center_bottom_lip_x    2140\n",
       "mouth_center_bottom_lip_y    2140\n",
       "Image                        2140\n",
       "dtype: int64"
      ]
     },
     "execution_count": 8,
     "metadata": {},
     "output_type": "execute_result"
    }
   ],
   "source": [
    "df.count()\n",
    "# just uding 1/4 of the dataset."
   ]
  },
  {
   "cell_type": "code",
   "execution_count": 10,
   "metadata": {
    "collapsed": true
   },
   "outputs": [
    {
     "name": "stderr",
     "output_type": "stream",
     "text": [
      "/home/nbuser/.anaconda3/lib/python3.7/site-packages/ipykernel_launcher.py:2: SettingWithCopyWarning: \n",
      "A value is trying to be set on a copy of a slice from a DataFrame.\n",
      "Try using .loc[row_indexer,col_indexer] = value instead\n",
      "\n",
      "See the caveats in the documentation: http://pandas.pydata.org/pandas-docs/stable/indexing.html#indexing-view-versus-copy\n",
      "  \n"
     ]
    }
   ],
   "source": [
    "# into numpy arrays\n",
    "# df['image'] = df['Image'].apply(lambda im: np.fromstring(im, sep=' '))"
   ]
  },
  {
   "cell_type": "code",
   "execution_count": 146,
   "metadata": {
    "collapsed": true
   },
   "outputs": [
    {
     "data": {
      "text/html": [
       "<div>\n",
       "<style scoped>\n",
       "    .dataframe tbody tr th:only-of-type {\n",
       "        vertical-align: middle;\n",
       "    }\n",
       "\n",
       "    .dataframe tbody tr th {\n",
       "        vertical-align: top;\n",
       "    }\n",
       "\n",
       "    .dataframe thead th {\n",
       "        text-align: right;\n",
       "    }\n",
       "</style>\n",
       "<table border=\"1\" class=\"dataframe\">\n",
       "  <thead>\n",
       "    <tr style=\"text-align: right;\">\n",
       "      <th></th>\n",
       "      <th>left_eye_center_x</th>\n",
       "      <th>left_eye_center_y</th>\n",
       "      <th>right_eye_center_x</th>\n",
       "      <th>right_eye_center_y</th>\n",
       "      <th>left_eye_inner_corner_x</th>\n",
       "      <th>left_eye_inner_corner_y</th>\n",
       "      <th>left_eye_outer_corner_x</th>\n",
       "      <th>left_eye_outer_corner_y</th>\n",
       "      <th>right_eye_inner_corner_x</th>\n",
       "      <th>right_eye_inner_corner_y</th>\n",
       "      <th>...</th>\n",
       "      <th>nose_tip_x</th>\n",
       "      <th>nose_tip_y</th>\n",
       "      <th>mouth_left_corner_x</th>\n",
       "      <th>mouth_left_corner_y</th>\n",
       "      <th>mouth_right_corner_x</th>\n",
       "      <th>mouth_right_corner_y</th>\n",
       "      <th>mouth_center_top_lip_x</th>\n",
       "      <th>mouth_center_top_lip_y</th>\n",
       "      <th>mouth_center_bottom_lip_x</th>\n",
       "      <th>mouth_center_bottom_lip_y</th>\n",
       "    </tr>\n",
       "  </thead>\n",
       "  <tbody>\n",
       "    <tr>\n",
       "      <th>count</th>\n",
       "      <td>2140.000000</td>\n",
       "      <td>2140.000000</td>\n",
       "      <td>2140.000000</td>\n",
       "      <td>2140.000000</td>\n",
       "      <td>2140.000000</td>\n",
       "      <td>2140.000000</td>\n",
       "      <td>2140.000000</td>\n",
       "      <td>2140.000000</td>\n",
       "      <td>2140.000000</td>\n",
       "      <td>2140.000000</td>\n",
       "      <td>...</td>\n",
       "      <td>2140.000000</td>\n",
       "      <td>2140.000000</td>\n",
       "      <td>2140.000000</td>\n",
       "      <td>2140.000000</td>\n",
       "      <td>2140.000000</td>\n",
       "      <td>2140.000000</td>\n",
       "      <td>2140.000000</td>\n",
       "      <td>2140.000000</td>\n",
       "      <td>2140.000000</td>\n",
       "      <td>2140.000000</td>\n",
       "    </tr>\n",
       "    <tr>\n",
       "      <th>mean</th>\n",
       "      <td>66.221549</td>\n",
       "      <td>36.842274</td>\n",
       "      <td>29.640269</td>\n",
       "      <td>37.063815</td>\n",
       "      <td>59.272128</td>\n",
       "      <td>37.856014</td>\n",
       "      <td>73.412473</td>\n",
       "      <td>37.640110</td>\n",
       "      <td>36.603107</td>\n",
       "      <td>37.920852</td>\n",
       "      <td>...</td>\n",
       "      <td>47.952141</td>\n",
       "      <td>57.253926</td>\n",
       "      <td>63.419076</td>\n",
       "      <td>75.887660</td>\n",
       "      <td>32.967365</td>\n",
       "      <td>76.134065</td>\n",
       "      <td>48.081325</td>\n",
       "      <td>72.681125</td>\n",
       "      <td>48.149654</td>\n",
       "      <td>82.630412</td>\n",
       "    </tr>\n",
       "    <tr>\n",
       "      <th>std</th>\n",
       "      <td>2.087683</td>\n",
       "      <td>2.294027</td>\n",
       "      <td>2.051575</td>\n",
       "      <td>2.234334</td>\n",
       "      <td>2.005631</td>\n",
       "      <td>2.034500</td>\n",
       "      <td>2.701639</td>\n",
       "      <td>2.684162</td>\n",
       "      <td>1.822784</td>\n",
       "      <td>2.009505</td>\n",
       "      <td>...</td>\n",
       "      <td>3.276053</td>\n",
       "      <td>4.528635</td>\n",
       "      <td>3.650131</td>\n",
       "      <td>4.438565</td>\n",
       "      <td>3.595103</td>\n",
       "      <td>4.259514</td>\n",
       "      <td>2.723274</td>\n",
       "      <td>5.108675</td>\n",
       "      <td>3.032389</td>\n",
       "      <td>4.813557</td>\n",
       "    </tr>\n",
       "    <tr>\n",
       "      <th>min</th>\n",
       "      <td>47.835757</td>\n",
       "      <td>23.832996</td>\n",
       "      <td>18.922611</td>\n",
       "      <td>24.773072</td>\n",
       "      <td>41.779381</td>\n",
       "      <td>27.190098</td>\n",
       "      <td>52.947144</td>\n",
       "      <td>26.250023</td>\n",
       "      <td>24.112624</td>\n",
       "      <td>26.250023</td>\n",
       "      <td>...</td>\n",
       "      <td>24.472590</td>\n",
       "      <td>41.558400</td>\n",
       "      <td>43.869480</td>\n",
       "      <td>57.023258</td>\n",
       "      <td>9.778137</td>\n",
       "      <td>56.690208</td>\n",
       "      <td>32.260312</td>\n",
       "      <td>56.719043</td>\n",
       "      <td>33.047605</td>\n",
       "      <td>57.232296</td>\n",
       "    </tr>\n",
       "    <tr>\n",
       "      <th>25%</th>\n",
       "      <td>65.046300</td>\n",
       "      <td>35.468842</td>\n",
       "      <td>28.472224</td>\n",
       "      <td>35.818377</td>\n",
       "      <td>58.113054</td>\n",
       "      <td>36.607950</td>\n",
       "      <td>71.741978</td>\n",
       "      <td>36.102409</td>\n",
       "      <td>35.495730</td>\n",
       "      <td>36.766783</td>\n",
       "      <td>...</td>\n",
       "      <td>46.495330</td>\n",
       "      <td>54.466000</td>\n",
       "      <td>61.341291</td>\n",
       "      <td>72.874263</td>\n",
       "      <td>30.879288</td>\n",
       "      <td>73.280038</td>\n",
       "      <td>46.580004</td>\n",
       "      <td>69.271669</td>\n",
       "      <td>46.492000</td>\n",
       "      <td>79.417480</td>\n",
       "    </tr>\n",
       "    <tr>\n",
       "      <th>50%</th>\n",
       "      <td>66.129065</td>\n",
       "      <td>36.913319</td>\n",
       "      <td>29.655440</td>\n",
       "      <td>37.048085</td>\n",
       "      <td>59.327154</td>\n",
       "      <td>37.845220</td>\n",
       "      <td>73.240045</td>\n",
       "      <td>37.624207</td>\n",
       "      <td>36.620735</td>\n",
       "      <td>37.920336</td>\n",
       "      <td>...</td>\n",
       "      <td>47.900511</td>\n",
       "      <td>57.638582</td>\n",
       "      <td>63.199057</td>\n",
       "      <td>75.682465</td>\n",
       "      <td>33.034022</td>\n",
       "      <td>75.941985</td>\n",
       "      <td>47.939031</td>\n",
       "      <td>72.395978</td>\n",
       "      <td>47.980854</td>\n",
       "      <td>82.388899</td>\n",
       "    </tr>\n",
       "    <tr>\n",
       "      <th>75%</th>\n",
       "      <td>67.332093</td>\n",
       "      <td>38.286438</td>\n",
       "      <td>30.858673</td>\n",
       "      <td>38.333884</td>\n",
       "      <td>60.521492</td>\n",
       "      <td>39.195431</td>\n",
       "      <td>74.978684</td>\n",
       "      <td>39.308331</td>\n",
       "      <td>37.665280</td>\n",
       "      <td>39.143921</td>\n",
       "      <td>...</td>\n",
       "      <td>49.260657</td>\n",
       "      <td>60.303524</td>\n",
       "      <td>65.302398</td>\n",
       "      <td>78.774969</td>\n",
       "      <td>35.063575</td>\n",
       "      <td>78.884031</td>\n",
       "      <td>49.290000</td>\n",
       "      <td>75.840286</td>\n",
       "      <td>49.551936</td>\n",
       "      <td>85.697976</td>\n",
       "    </tr>\n",
       "    <tr>\n",
       "      <th>max</th>\n",
       "      <td>78.013082</td>\n",
       "      <td>46.132421</td>\n",
       "      <td>42.495172</td>\n",
       "      <td>45.980981</td>\n",
       "      <td>69.023030</td>\n",
       "      <td>47.190316</td>\n",
       "      <td>87.032252</td>\n",
       "      <td>49.653825</td>\n",
       "      <td>47.293746</td>\n",
       "      <td>44.887301</td>\n",
       "      <td>...</td>\n",
       "      <td>65.279654</td>\n",
       "      <td>75.992731</td>\n",
       "      <td>84.767123</td>\n",
       "      <td>94.673637</td>\n",
       "      <td>50.973348</td>\n",
       "      <td>93.443176</td>\n",
       "      <td>61.804506</td>\n",
       "      <td>93.916338</td>\n",
       "      <td>62.438095</td>\n",
       "      <td>95.808983</td>\n",
       "    </tr>\n",
       "  </tbody>\n",
       "</table>\n",
       "<p>8 rows × 30 columns</p>\n",
       "</div>"
      ],
      "text/plain": [
       "       left_eye_center_x  left_eye_center_y  right_eye_center_x  \\\n",
       "count        2140.000000        2140.000000         2140.000000   \n",
       "mean           66.221549          36.842274           29.640269   \n",
       "std             2.087683           2.294027            2.051575   \n",
       "min            47.835757          23.832996           18.922611   \n",
       "25%            65.046300          35.468842           28.472224   \n",
       "50%            66.129065          36.913319           29.655440   \n",
       "75%            67.332093          38.286438           30.858673   \n",
       "max            78.013082          46.132421           42.495172   \n",
       "\n",
       "       right_eye_center_y  left_eye_inner_corner_x  left_eye_inner_corner_y  \\\n",
       "count         2140.000000              2140.000000              2140.000000   \n",
       "mean            37.063815                59.272128                37.856014   \n",
       "std              2.234334                 2.005631                 2.034500   \n",
       "min             24.773072                41.779381                27.190098   \n",
       "25%             35.818377                58.113054                36.607950   \n",
       "50%             37.048085                59.327154                37.845220   \n",
       "75%             38.333884                60.521492                39.195431   \n",
       "max             45.980981                69.023030                47.190316   \n",
       "\n",
       "       left_eye_outer_corner_x  left_eye_outer_corner_y  \\\n",
       "count              2140.000000              2140.000000   \n",
       "mean                 73.412473                37.640110   \n",
       "std                   2.701639                 2.684162   \n",
       "min                  52.947144                26.250023   \n",
       "25%                  71.741978                36.102409   \n",
       "50%                  73.240045                37.624207   \n",
       "75%                  74.978684                39.308331   \n",
       "max                  87.032252                49.653825   \n",
       "\n",
       "       right_eye_inner_corner_x  right_eye_inner_corner_y  \\\n",
       "count               2140.000000               2140.000000   \n",
       "mean                  36.603107                 37.920852   \n",
       "std                    1.822784                  2.009505   \n",
       "min                   24.112624                 26.250023   \n",
       "25%                   35.495730                 36.766783   \n",
       "50%                   36.620735                 37.920336   \n",
       "75%                   37.665280                 39.143921   \n",
       "max                   47.293746                 44.887301   \n",
       "\n",
       "                 ...               nose_tip_x   nose_tip_y  \\\n",
       "count            ...              2140.000000  2140.000000   \n",
       "mean             ...                47.952141    57.253926   \n",
       "std              ...                 3.276053     4.528635   \n",
       "min              ...                24.472590    41.558400   \n",
       "25%              ...                46.495330    54.466000   \n",
       "50%              ...                47.900511    57.638582   \n",
       "75%              ...                49.260657    60.303524   \n",
       "max              ...                65.279654    75.992731   \n",
       "\n",
       "       mouth_left_corner_x  mouth_left_corner_y  mouth_right_corner_x  \\\n",
       "count          2140.000000          2140.000000           2140.000000   \n",
       "mean             63.419076            75.887660             32.967365   \n",
       "std               3.650131             4.438565              3.595103   \n",
       "min              43.869480            57.023258              9.778137   \n",
       "25%              61.341291            72.874263             30.879288   \n",
       "50%              63.199057            75.682465             33.034022   \n",
       "75%              65.302398            78.774969             35.063575   \n",
       "max              84.767123            94.673637             50.973348   \n",
       "\n",
       "       mouth_right_corner_y  mouth_center_top_lip_x  mouth_center_top_lip_y  \\\n",
       "count           2140.000000             2140.000000             2140.000000   \n",
       "mean              76.134065               48.081325               72.681125   \n",
       "std                4.259514                2.723274                5.108675   \n",
       "min               56.690208               32.260312               56.719043   \n",
       "25%               73.280038               46.580004               69.271669   \n",
       "50%               75.941985               47.939031               72.395978   \n",
       "75%               78.884031               49.290000               75.840286   \n",
       "max               93.443176               61.804506               93.916338   \n",
       "\n",
       "       mouth_center_bottom_lip_x  mouth_center_bottom_lip_y  \n",
       "count                2140.000000                2140.000000  \n",
       "mean                   48.149654                  82.630412  \n",
       "std                     3.032389                   4.813557  \n",
       "min                    33.047605                  57.232296  \n",
       "25%                    46.492000                  79.417480  \n",
       "50%                    47.980854                  82.388899  \n",
       "75%                    49.551936                  85.697976  \n",
       "max                    62.438095                  95.808983  \n",
       "\n",
       "[8 rows x 30 columns]"
      ]
     },
     "execution_count": 146,
     "metadata": {},
     "output_type": "execute_result"
    }
   ],
   "source": [
    "# df.describe()"
   ]
  },
  {
   "cell_type": "code",
   "execution_count": 116,
   "metadata": {},
   "outputs": [],
   "source": [
    "# numpy_images_all = np.vstack(raw_data['image'].values)"
   ]
  },
  {
   "cell_type": "code",
   "execution_count": 117,
   "metadata": {},
   "outputs": [],
   "source": [
    "# numpy_images_all = numpy_images_all.astype(np.int)"
   ]
  },
  {
   "cell_type": "code",
   "execution_count": 118,
   "metadata": {},
   "outputs": [],
   "source": [
    "# numpy_images_all = numpy_images_all.reshape(-1,1,96,96)"
   ]
  },
  {
   "cell_type": "code",
   "execution_count": 119,
   "metadata": {},
   "outputs": [
    {
     "data": {
      "text/plain": [
       "(7049, 1, 96, 96)"
      ]
     },
     "execution_count": 119,
     "metadata": {},
     "output_type": "execute_result"
    }
   ],
   "source": [
    "# numpy_images_all.shape"
   ]
  },
  {
   "cell_type": "code",
   "execution_count": 120,
   "metadata": {},
   "outputs": [
    {
     "name": "stderr",
     "output_type": "stream",
     "text": [
      "/home/nbuser/.anaconda3/lib/python3.7/site-packages/ipykernel_launcher.py:2: DeprecationWarning: `imsave` is deprecated!\n",
      "`imsave` is deprecated in SciPy 1.0.0, and will be removed in 1.2.0.\n",
      "Use ``imageio.imwrite`` instead.\n",
      "  \n"
     ]
    }
   ],
   "source": [
    "# for i in range(len(numpy_images_all)):\n",
    "#     scipy.misc.imsave('data/facial_keypoint_pure/train_all/img_%d.jpg' % i, numpy_images_all[i][0])"
   ]
  },
  {
   "cell_type": "code",
   "execution_count": 121,
   "metadata": {},
   "outputs": [],
   "source": [
    "# pdf = raw_data.drop(['Image','image'], 1)"
   ]
  },
  {
   "cell_type": "code",
   "execution_count": 122,
   "metadata": {},
   "outputs": [],
   "source": [
    "# pdf.to_csv('data/facial_keypoint_pure/train_all.csv')"
   ]
  },
  {
   "cell_type": "code",
   "execution_count": 6,
   "metadata": {},
   "outputs": [],
   "source": [
    "cords = df[df.columns[:-1]].values\n",
    "cords = tensor(cords)"
   ]
  },
  {
   "cell_type": "code",
   "execution_count": 7,
   "metadata": {},
   "outputs": [
    {
     "data": {
      "text/plain": [
       "tensor([[39.0023, 66.0336],\n",
       "        [36.4217, 30.2270],\n",
       "        [39.6474, 59.5821],\n",
       "        [39.9700, 73.1303],\n",
       "        [37.3894, 36.3566],\n",
       "        [37.3894, 23.4529],\n",
       "        [29.0336, 56.9533],\n",
       "        [32.2281, 80.2271],\n",
       "        [29.0023, 40.2276],\n",
       "        [29.6475, 16.3564],\n",
       "        [57.0668, 44.4206],\n",
       "        [79.9702, 61.1953],\n",
       "        [77.3890, 28.6145],\n",
       "        [72.9355, 43.3126],\n",
       "        [84.4858, 43.1307]], dtype=torch.float64)"
      ]
     },
     "execution_count": 7,
     "metadata": {},
     "output_type": "execute_result"
    }
   ],
   "source": [
    "b = cords[0].reshape((-1,2)).flip(1); b"
   ]
  },
  {
   "cell_type": "code",
   "execution_count": 8,
   "metadata": {},
   "outputs": [],
   "source": [
    "path = Path('data/facial_keypoint_pure/train')"
   ]
  },
  {
   "cell_type": "code",
   "execution_count": 9,
   "metadata": {},
   "outputs": [],
   "source": [
    "test_folder = Path('data/facial_keypoint_pure/test')"
   ]
  },
  {
   "cell_type": "code",
   "execution_count": 10,
   "metadata": {},
   "outputs": [],
   "source": [
    "fname = path/'img_0.jpg'"
   ]
  },
  {
   "cell_type": "code",
   "execution_count": 11,
   "metadata": {},
   "outputs": [
    {
     "data": {
      "image/png": "[encoded data removed]",
      "text/plain": [
       "<Figure size 216x216 with 1 Axes>"
      ]
     },
     "metadata": {
      "needs_background": "light"
     },
     "output_type": "display_data"
    }
   ],
   "source": [
    "img = open_image(fname)\n",
    "img.show()"
   ]
  },
  {
   "cell_type": "code",
   "execution_count": 12,
   "metadata": {},
   "outputs": [
    {
     "data": {
      "text/plain": [
       "torch.Size([96, 96])"
      ]
     },
     "execution_count": 12,
     "metadata": {},
     "output_type": "execute_result"
    }
   ],
   "source": [
    "img.size"
   ]
  },
  {
   "cell_type": "code",
   "execution_count": 13,
   "metadata": {},
   "outputs": [
    {
     "data": {
      "text/plain": [
       "'0'"
      ]
     },
     "execution_count": 13,
     "metadata": {},
     "output_type": "execute_result"
    }
   ],
   "source": [
    "f'{str(fname)[36:][:-4]}'"
   ]
  },
  {
   "cell_type": "code",
   "execution_count": 14,
   "metadata": {},
   "outputs": [],
   "source": [
    "def get_coords(f):\n",
    "    idx = int(f'{str(fname)[36:][:-4]}')\n",
    "    return cords[idx].reshape((-1,2)).flip(1)\n",
    "\n",
    "def get_ip(img,pts): return ImagePoints(FlowField(img.size, pts), scale=True)"
   ]
  },
  {
   "cell_type": "code",
   "execution_count": 15,
   "metadata": {},
   "outputs": [],
   "source": [
    "cords = cords.type(torch.float32)"
   ]
  },
  {
   "cell_type": "code",
   "execution_count": 16,
   "metadata": {},
   "outputs": [],
   "source": [
    "# needs to be float32\n",
    "b = b.type(torch.float32)"
   ]
  },
  {
   "cell_type": "code",
   "execution_count": 17,
   "metadata": {},
   "outputs": [
    {
     "data": {
      "image/png": "[encoded data removed]",
      "text/plain": [
       "<Figure size 432x432 with 1 Axes>"
      ]
     },
     "metadata": {
      "needs_background": "light"
     },
     "output_type": "display_data"
    }
   ],
   "source": [
    "img.show(y=get_ip(img,b), figsize=(6, 6), cmap='gray')"
   ]
  },
  {
   "cell_type": "markdown",
   "metadata": {},
   "source": [
    "## Creating a dataset"
   ]
  },
  {
   "cell_type": "code",
   "execution_count": 18,
   "metadata": {},
   "outputs": [],
   "source": [
    "tfms = get_transforms(max_rotate=2, max_warp=0, max_lighting=0, max_zoom=1)"
   ]
  },
  {
   "cell_type": "code",
   "execution_count": 19,
   "metadata": {},
   "outputs": [],
   "source": [
    "np.random.seed(42)\n",
    "data = (ImageFileList.from_folder(path)\n",
    "        .label_from_func(get_coords)\n",
    "        .random_split_by_pct(0.2)\n",
    "        .datasets(PointsDataset)\n",
    "        .transform(tfms, tfms_y=True, size=(96,96))\n",
    "        .databunch().normalize(imagenet_stats))"
   ]
  },
  {
   "cell_type": "code",
   "execution_count": 20,
   "metadata": {},
   "outputs": [
    {
     "data": {
      "image/png": "[encoded data removed]",
      "text/plain": [
       "<Figure size 648x432 with 9 Axes>"
      ]
     },
     "metadata": {
      "needs_background": "light"
     },
     "output_type": "display_data"
    }
   ],
   "source": [
    "data.show_batch(3, figsize=(9,6))"
   ]
  },
  {
   "cell_type": "code",
   "execution_count": 21,
   "metadata": {},
   "outputs": [],
   "source": [
    "# class RegressionDataset(ImageDatasetBase):\n",
    "#     def __init__(self, fns:Collection[Path], pts:Collection[Tensor]):\n",
    "#         super().__init__(c=2, x=fns, y=pts, task_type=TaskType.Regression)"
   ]
  },
  {
   "cell_type": "code",
   "execution_count": 22,
   "metadata": {},
   "outputs": [],
   "source": [
    "# data = (ImageFileList\n",
    "#         .from_folder(path)\n",
    "#         .label_from_func(get_ctr)\n",
    "#         .split_by_folder('train')\n",
    "#         .datasets(RegressionDataset)\n",
    "#         .transform(get_transforms(), tfm_y=True, size=64)\n",
    "#         .databunch()\n",
    "#         .normalize(imagenet_stats))"
   ]
  },
  {
   "cell_type": "code",
   "execution_count": 23,
   "metadata": {},
   "outputs": [
    {
     "data": {
      "text/plain": [
       "(1712, 428)"
      ]
     },
     "execution_count": 23,
     "metadata": {},
     "output_type": "execute_result"
    }
   ],
   "source": [
    "len(data.train_ds), len(data.valid_ds)"
   ]
  },
  {
   "cell_type": "code",
   "execution_count": 24,
   "metadata": {},
   "outputs": [],
   "source": [
    "x, y = data.train_dl.one_batch()"
   ]
  },
  {
   "cell_type": "code",
   "execution_count": 25,
   "metadata": {},
   "outputs": [
    {
     "data": {
      "text/plain": [
       "torch.Size([64, 3, 96, 96])"
      ]
     },
     "execution_count": 25,
     "metadata": {},
     "output_type": "execute_result"
    }
   ],
   "source": [
    "x.shape"
   ]
  },
  {
   "cell_type": "code",
   "execution_count": 26,
   "metadata": {},
   "outputs": [
    {
     "data": {
      "text/plain": [
       "torch.Size([64, 15, 2])"
      ]
     },
     "execution_count": 26,
     "metadata": {},
     "output_type": "execute_result"
    }
   ],
   "source": [
    "y.shape"
   ]
  },
  {
   "cell_type": "code",
   "execution_count": 27,
   "metadata": {},
   "outputs": [
    {
     "data": {
      "text/plain": [
       "tensor([[-0.1875,  0.3757],\n",
       "        [-0.2412, -0.3703],\n",
       "        [-0.1740,  0.2413],\n",
       "        [-0.1673,  0.5235],\n",
       "        [-0.2211, -0.2426],\n",
       "        [-0.2211, -0.5114],\n",
       "        [-0.3951,  0.1865],\n",
       "        [-0.3286,  0.6714],\n",
       "        [-0.3958, -0.1619],\n",
       "        [-0.3823, -0.6592],\n",
       "        [ 0.1889, -0.0746],\n",
       "        [ 0.6660,  0.2749],\n",
       "        [ 0.6123, -0.4039],\n",
       "        [ 0.5195, -0.0977],\n",
       "        [ 0.7601, -0.1014]], device='cuda:0')"
      ]
     },
     "execution_count": 27,
     "metadata": {},
     "output_type": "execute_result"
    }
   ],
   "source": [
    "#15 facial points.\n",
    "y[0]"
   ]
  },
  {
   "cell_type": "markdown",
   "metadata": {},
   "source": [
    "## Train model"
   ]
  },
  {
   "cell_type": "code",
   "execution_count": 28,
   "metadata": {},
   "outputs": [],
   "source": [
    "class RMSELossFlat(nn.MSELoss):\n",
    "    \"Same as `nn.MSELoss`, but flattens input and target.\"\n",
    "    def forward(self, input:Tensor, target:Tensor) -> Rank0Tensor:\n",
    "        return torch.sqrt(super().forward(input.view(-1), target.view(-1)))"
   ]
  },
  {
   "cell_type": "code",
   "execution_count": 29,
   "metadata": {},
   "outputs": [],
   "source": [
    "learn = create_cnn(data, models.resnet34)\n",
    "learn.loss_func = RMSELossFlat()"
   ]
  },
  {
   "cell_type": "code",
   "execution_count": 30,
   "metadata": {},
   "outputs": [
    {
     "name": "stdout",
     "output_type": "stream",
     "text": [
      "LR Finder complete, type {learner_name}.recorder.plot() to see the graph.\n"
     ]
    },
    {
     "data": {
      "image/png": "[encoded data removed]",
      "text/plain": [
       "<Figure size 432x288 with 1 Axes>"
      ]
     },
     "metadata": {
      "needs_background": "light"
     },
     "output_type": "display_data"
    }
   ],
   "source": [
    "learn.lr_find()\n",
    "learn.recorder.plot()"
   ]
  },
  {
   "cell_type": "code",
   "execution_count": 31,
   "metadata": {},
   "outputs": [],
   "source": [
    "lr = 2e-2"
   ]
  },
  {
   "cell_type": "code",
   "execution_count": 32,
   "metadata": {},
   "outputs": [
    {
     "name": "stdout",
     "output_type": "stream",
     "text": [
      "Total time: 00:38\n",
      "epoch  train_loss  valid_loss\n",
      "1      0.855159    0.549349    (00:05)\n",
      "2      0.488957    0.196099    (00:04)\n",
      "3      0.314108    0.055854    (00:04)\n",
      "4      0.192324    0.023957    (00:04)\n",
      "5      0.116078    0.012469    (00:04)\n",
      "6      0.071150    0.004143    (00:04)\n",
      "7      0.044230    0.002539    (00:04)\n",
      "8      0.028335    0.001667    (00:04)\n",
      "\n"
     ]
    }
   ],
   "source": [
    "learn.fit_one_cycle(8, slice(lr))"
   ]
  },
  {
   "cell_type": "code",
   "execution_count": 67,
   "metadata": {},
   "outputs": [],
   "source": [
    "learn.save('stage-1-wd')"
   ]
  },
  {
   "cell_type": "markdown",
   "metadata": {},
   "source": [
    "#### Thanks to @jerbly, for the code below. [His notebook](https://gist.github.com/jerbly/08fdd00013454a021451bfedbd54ada7)"
   ]
  },
  {
   "cell_type": "code",
   "execution_count": 34,
   "metadata": {},
   "outputs": [
    {
     "data": {
      "text/plain": [
       "tensor([-0.1861,  0.3768, -0.2410, -0.3657, -0.1735,  0.2416, -0.1659,  0.5179,\n",
       "        -0.2176, -0.2442, -0.2218, -0.5110, -0.3936,  0.1896, -0.3301,  0.6698,\n",
       "        -0.3943, -0.1627, -0.3805, -0.6549,  0.1901, -0.0743,  0.6639,  0.2771,\n",
       "         0.6094, -0.4014,  0.5164, -0.0981,  0.7545, -0.1012])"
      ]
     },
     "execution_count": 34,
     "metadata": {},
     "output_type": "execute_result"
    }
   ],
   "source": [
    "preds = learn.pred_batch(DatasetType.Valid); preds[0]"
   ]
  },
  {
   "cell_type": "code",
   "execution_count": 38,
   "metadata": {},
   "outputs": [
    {
     "data": {
      "image/png": "[encoded data removed]",
      "text/plain": [
       "<Figure size 576x864 with 8 Axes>"
      ]
     },
     "metadata": {
      "needs_background": "light"
     },
     "output_type": "display_data"
    }
   ],
   "source": [
    "rows=4; figsize=None; ds_type=DatasetType.Valid\n",
    "\n",
    "dl = learn.dl(ds_type)\n",
    "figsize = ifnone(figsize, (8,3*rows))\n",
    "_,axs = plt.subplots(rows, 2, figsize=figsize)\n",
    "axs[0,0].set_title('Predictions')\n",
    "axs[0,1].set_title('Ground truth')\n",
    "for i in range(rows):\n",
    "    x,y = dl.dataset[i]\n",
    "    x.show(ax=axs[i,1], y=y) #Doing that first will update x before we pass it to reconstruct_output\n",
    "    pred = ImagePoints(FlowField(x.size, preds[i].reshape((-1,2))), scale=False)\n",
    "    x.show(ax=axs[i,0], y=pred)\n",
    "plt.tight_layout()"
   ]
  },
  {
   "cell_type": "code",
   "execution_count": 45,
   "metadata": {},
   "outputs": [],
   "source": [
    "doc(ImageFileList)"
   ]
  },
  {
   "cell_type": "code",
   "execution_count": null,
   "metadata": {},
   "outputs": [],
   "source": []
  }
 ],
 "metadata": {
  "hide_input": false,
  "kernelspec": {
   "display_name": "Python 3",
   "language": "python",
   "name": "python3"
  },
  "language_info": {
   "codemirror_mode": {
    "name": "ipython",
    "version": 3
   },
   "file_extension": ".py",
   "mimetype": "text/x-python",
   "name": "python",
   "nbconvert_exporter": "python",
   "pygments_lexer": "ipython3",
   "version": "3.6.6"
  },
  "varInspector": {
   "cols": {
    "lenName": 16,
    "lenType": 16,
    "lenVar": 40
   },
   "kernels_config": {
    "python": {
     "delete_cmd_postfix": "",
     "delete_cmd_prefix": "del ",
     "library": "var_list.py",
     "varRefreshCmd": "print(var_dic_list())"
    },
    "r": {
     "delete_cmd_postfix": ") ",
     "delete_cmd_prefix": "rm(",
     "library": "var_list.r",
     "varRefreshCmd": "cat(var_dic_list()) "
    }
   },
   "types_to_exclude": [
    "module",
    "function",
    "builtin_function_or_method",
    "instance",
    "_Feature"
   ],
   "window_display": false
  }
 },
 "nbformat": 4,
 "nbformat_minor": 2
}
